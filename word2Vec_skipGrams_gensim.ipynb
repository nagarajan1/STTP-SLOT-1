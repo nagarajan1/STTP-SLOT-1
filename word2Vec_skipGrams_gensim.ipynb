{
  "nbformat": 4,
  "nbformat_minor": 0,
  "metadata": {
    "colab": {
      "name": "word2Vec_skipGrams_gensim",
      "provenance": [],
      "collapsed_sections": [],
      "authorship_tag": "ABX9TyOAd5u+U03DKHBMYPAnCBpZ",
      "include_colab_link": true
    },
    "kernelspec": {
      "name": "python3",
      "display_name": "Python 3"
    }
  },
  "cells": [
    {
      "cell_type": "markdown",
      "metadata": {
        "id": "view-in-github",
        "colab_type": "text"
      },
      "source": [
        "<a href=\"https://colab.research.google.com/github/nagarajan1/STTP-SLOT-1/blob/master/word2Vec_skipGrams_gensim.ipynb\" target=\"_parent\"><img src=\"https://colab.research.google.com/assets/colab-badge.svg\" alt=\"Open In Colab\"/></a>"
      ]
    },
    {
      "cell_type": "code",
      "metadata": {
        "id": "H-Ow7HvHeaMg",
        "colab_type": "code",
        "colab": {}
      },
      "source": [
        "from gensim.models import KeyedVectors\n",
        "from gensim.models import word2vec\n",
        "import logging\n",
        "import os"
      ],
      "execution_count": 1,
      "outputs": []
    },
    {
      "cell_type": "code",
      "metadata": {
        "id": "AURcr00bfJCD",
        "colab_type": "code",
        "colab": {
          "base_uri": "https://localhost:8080/",
          "height": 124
        },
        "outputId": "2f24a796-3c44-4431-c4d0-e75a0c132693"
      },
      "source": [
        "from google.colab import drive\n",
        "drive.mount('/content/drive')"
      ],
      "execution_count": 2,
      "outputs": [
        {
          "output_type": "stream",
          "text": [
            "Go to this URL in a browser: https://accounts.google.com/o/oauth2/auth?client_id=947318989803-6bn6qk8qdgf4n4g3pfee6491hc0brc4i.apps.googleusercontent.com&redirect_uri=urn%3aietf%3awg%3aoauth%3a2.0%3aoob&response_type=code&scope=email%20https%3a%2f%2fwww.googleapis.com%2fauth%2fdocs.test%20https%3a%2f%2fwww.googleapis.com%2fauth%2fdrive%20https%3a%2f%2fwww.googleapis.com%2fauth%2fdrive.photos.readonly%20https%3a%2f%2fwww.googleapis.com%2fauth%2fpeopleapi.readonly\n",
            "\n",
            "Enter your authorization code:\n",
            "··········\n",
            "Mounted at /content/drive\n"
          ],
          "name": "stdout"
        }
      ]
    },
    {
      "cell_type": "code",
      "metadata": {
        "id": "CcbGF6V5eeWJ",
        "colab_type": "code",
        "colab": {}
      },
      "source": [
        "class Text8Sentences(object):\n",
        "    def __init__(self,fname,maxlen):\n",
        "        self.fname=fname\n",
        "        self.maxlen=maxlen\n",
        "\n",
        "    def __iter__(self):\n",
        "        with open(\"drive/My Drive/text8\", \"r\") as ftext:\n",
        "            text = ftext.read().split(\" \")\n",
        "            words = []\n",
        "            for word in text:\n",
        "                if len(words) >= self.maxlen:\n",
        "                    yield words\n",
        "                    words = []\n",
        "                words.append(word)\n",
        "            yield words"
      ],
      "execution_count": 3,
      "outputs": []
    },
    {
      "cell_type": "code",
      "metadata": {
        "id": "rN4rrRsoemfa",
        "colab_type": "code",
        "colab": {
          "base_uri": "https://localhost:8080/",
          "height": 34
        },
        "outputId": "fd9eb6f8-f4df-465e-9a16-d21fe843d24b"
      },
      "source": [
        "#logging.basicConfig(format='%(asctime)s  : %(levelname)s : %(message)s',level=logging.INFO)\n",
        "DATA_DIR=\"drive/My Drive\"\n",
        "#print(os.path.join(DATA_DIR,\"text8\"))\n",
        "sentences=Text8Sentences(\"drive/My Drive/text8\",50)\n",
        "print(sentences)"
      ],
      "execution_count": 4,
      "outputs": [
        {
          "output_type": "stream",
          "text": [
            "<__main__.Text8Sentences object at 0x7fe913eeb780>\n"
          ],
          "name": "stdout"
        }
      ]
    },
    {
      "cell_type": "code",
      "metadata": {
        "id": "1uzAaiN8ezTL",
        "colab_type": "code",
        "colab": {}
      },
      "source": [
        "model=word2vec.Word2Vec(sentences,size=300,min_count=30)\n",
        "model.init_sims(replace=True)"
      ],
      "execution_count": 5,
      "outputs": []
    },
    {
      "cell_type": "code",
      "metadata": {
        "id": "lhYLoy5JncWl",
        "colab_type": "code",
        "colab": {
          "base_uri": "https://localhost:8080/",
          "height": 141
        },
        "outputId": "22de4030-0a7a-4fcb-9dca-5acaf61b3d4c"
      },
      "source": [
        "print(\"\"\"model.most_similar(\"woman\")\"\"\")\n",
        "print(model.most_similar(\"woman\"))"
      ],
      "execution_count": 6,
      "outputs": [
        {
          "output_type": "stream",
          "text": [
            "model.most_similar(\"woman\")\n",
            "[('child', 0.7333621382713318), ('girl', 0.7113742232322693), ('man', 0.6611392498016357), ('herself', 0.6346659660339355), ('lady', 0.6327184438705444), ('person', 0.6190523505210876), ('bride', 0.6149516105651855), ('prostitute', 0.6063977479934692), ('husband', 0.5920445322990417), ('lover', 0.5898927450180054)]\n"
          ],
          "name": "stdout"
        },
        {
          "output_type": "stream",
          "text": [
            "/usr/local/lib/python3.6/dist-packages/ipykernel_launcher.py:2: DeprecationWarning: Call to deprecated `most_similar` (Method will be removed in 4.0.0, use self.wv.most_similar() instead).\n",
            "  \n",
            "/usr/local/lib/python3.6/dist-packages/gensim/matutils.py:737: FutureWarning: Conversion of the second argument of issubdtype from `int` to `np.signedinteger` is deprecated. In future, it will be treated as `np.int64 == np.dtype(int).type`.\n",
            "  if np.issubdtype(vec.dtype, np.int):\n"
          ],
          "name": "stderr"
        }
      ]
    },
    {
      "cell_type": "code",
      "metadata": {
        "id": "O4UoTjgnoNuT",
        "colab_type": "code",
        "colab": {
          "base_uri": "https://localhost:8080/",
          "height": 159
        },
        "outputId": "d71daa98-5760-4101-e095-6c5546fa3f4d"
      },
      "source": [
        "print(\"\"\"model.most_similar(positive=[\"woman\", \"king\"],\n",
        "      negative=[\"man\"], topn=10)\"\"\")\n",
        "print(model.most_similar(positive=['woman', 'king'],\n",
        "                         negative=['man'],\n",
        "                         topn=10))"
      ],
      "execution_count": 7,
      "outputs": [
        {
          "output_type": "stream",
          "text": [
            "model.most_similar(positive=[\"woman\", \"king\"],\n",
            "      negative=[\"man\"], topn=10)\n",
            "[('queen', 0.6369054317474365), ('prince', 0.5641496181488037), ('daughter', 0.5547469258308411), ('princess', 0.5545531511306763), ('consort', 0.5502408146858215), ('throne', 0.5485630631446838), ('elizabeth', 0.5472012758255005), ('empress', 0.5421411991119385), ('sigismund', 0.5368541479110718), ('isabella', 0.5346506834030151)]\n"
          ],
          "name": "stdout"
        },
        {
          "output_type": "stream",
          "text": [
            "/usr/local/lib/python3.6/dist-packages/ipykernel_launcher.py:5: DeprecationWarning: Call to deprecated `most_similar` (Method will be removed in 4.0.0, use self.wv.most_similar() instead).\n",
            "  \"\"\"\n",
            "/usr/local/lib/python3.6/dist-packages/gensim/matutils.py:737: FutureWarning: Conversion of the second argument of issubdtype from `int` to `np.signedinteger` is deprecated. In future, it will be treated as `np.int64 == np.dtype(int).type`.\n",
            "  if np.issubdtype(vec.dtype, np.int):\n"
          ],
          "name": "stderr"
        }
      ]
    },
    {
      "cell_type": "code",
      "metadata": {
        "id": "qzXKn9NFoh0w",
        "colab_type": "code",
        "colab": {
          "base_uri": "https://localhost:8080/",
          "height": 350
        },
        "outputId": "8da41cc1-e2f2-4bb1-b7c6-e9e3ccfcdcd7"
      },
      "source": [
        "print(\"\"\"model.similarity(\"girl\", \"woman\")\"\"\")\n",
        "print(model.similarity(\"girl\", \"woman\"))\n",
        "print(\"\"\"model.similarity(\"girl\", \"man\")\"\"\")\n",
        "print(model.similarity(\"girl\", \"man\"))\n",
        "print(\"\"\"model.similarity(\"girl\", \"car\")\"\"\")\n",
        "print(model.similarity(\"girl\", \"car\"))\n",
        "print(\"\"\"model.similarity(\"bus\", \"car\")\"\"\")\n",
        "print(model.similarity(\"bus\", \"car\"))"
      ],
      "execution_count": 8,
      "outputs": [
        {
          "output_type": "stream",
          "text": [
            "model.similarity(\"girl\", \"woman\")\n",
            "0.71137416\n",
            "model.similarity(\"girl\", \"man\")\n",
            "0.56424916\n",
            "model.similarity(\"girl\", \"car\")\n",
            "0.34240177\n",
            "model.similarity(\"bus\", \"car\")\n",
            "0.48605338\n"
          ],
          "name": "stdout"
        },
        {
          "output_type": "stream",
          "text": [
            "/usr/local/lib/python3.6/dist-packages/ipykernel_launcher.py:2: DeprecationWarning: Call to deprecated `similarity` (Method will be removed in 4.0.0, use self.wv.similarity() instead).\n",
            "  \n",
            "/usr/local/lib/python3.6/dist-packages/gensim/matutils.py:737: FutureWarning: Conversion of the second argument of issubdtype from `int` to `np.signedinteger` is deprecated. In future, it will be treated as `np.int64 == np.dtype(int).type`.\n",
            "  if np.issubdtype(vec.dtype, np.int):\n",
            "/usr/local/lib/python3.6/dist-packages/ipykernel_launcher.py:4: DeprecationWarning: Call to deprecated `similarity` (Method will be removed in 4.0.0, use self.wv.similarity() instead).\n",
            "  after removing the cwd from sys.path.\n",
            "/usr/local/lib/python3.6/dist-packages/ipykernel_launcher.py:6: DeprecationWarning: Call to deprecated `similarity` (Method will be removed in 4.0.0, use self.wv.similarity() instead).\n",
            "  \n",
            "/usr/local/lib/python3.6/dist-packages/ipykernel_launcher.py:8: DeprecationWarning: Call to deprecated `similarity` (Method will be removed in 4.0.0, use self.wv.similarity() instead).\n",
            "  \n"
          ],
          "name": "stderr"
        }
      ]
    }
  ]
}